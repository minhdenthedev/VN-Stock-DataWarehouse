{
 "cells": [
  {
   "cell_type": "code",
   "execution_count": 3,
   "metadata": {},
   "outputs": [
    {
     "name": "stdout",
     "output_type": "stream",
     "text": [
      "\n",
      "<thead><tr><td class=\"owner_time\" rowspan=\"2\">Ngày</td><td class=\"owner_time\" rowspan=\"2\">Thay đổi</td><td>Giao dịch ròng - Khối lượng</td><td>Giao dịch ròng - Giá trị (tỷ VNĐ)</td><td>Mua - Khối lượng</td><td>Mua - Giá trị (tỷ VNĐ)</td><td>Bán - Khối lượng</td><td>Bán - Giá trị (tỷ VNĐ)</td><td class=\"owner_time\" rowspan=\"2\">Room còn lại</td><td class=\"owner_time\" rowspan=\"2\" style=\"border-right:none;\">Đang sở hữu</td></tr></thead>\n",
      "\n"
     ]
    }
   ],
   "source": [
    "from bs4 import BeautifulSoup\n",
    "\n",
    "def flatten_thead(html):\n",
    "    soup = BeautifulSoup(html, \"html.parser\")\n",
    "    thead = soup.find(\"thead\")\n",
    "    \n",
    "    if not thead:\n",
    "        return html  # Trả về HTML gốc nếu không tìm thấy <thead>\n",
    "    \n",
    "    rows = thead.find_all(\"tr\")\n",
    "    if len(rows) < 2:\n",
    "        return html  # Nếu chỉ có một dòng, không cần gộp\n",
    "\n",
    "    first_row_cells = rows[0].find_all(\"td\")\n",
    "    second_row_cells = rows[1].find_all(\"td\")\n",
    "\n",
    "    new_row = soup.new_tag(\"tr\")  # Tạo một dòng mới\n",
    "\n",
    "    for cell in first_row_cells:\n",
    "        colspan = int(cell.get(\"colspan\", \"1\"))  # Lấy giá trị colspan (mặc định = 1)\n",
    "        rowspan = int(cell.get(\"rowspan\", \"1\"))  # Lấy giá trị rowspan (mặc định = 1)\n",
    "\n",
    "        if colspan > 1:\n",
    "            # Nếu ô có colspan, lấy số ô tương ứng trong dòng thứ 2\n",
    "            sub_cells = second_row_cells[:colspan]\n",
    "            second_row_cells = second_row_cells[colspan:]  # Cập nhật danh sách còn lại\n",
    "            \n",
    "            for sub_cell in sub_cells:\n",
    "                new_cell = soup.new_tag(\"td\")  # Tạo ô mới\n",
    "                new_cell.string = f\"{cell.text.strip()} - {sub_cell.text.strip()}\"\n",
    "                new_row.append(new_cell)\n",
    "        else:\n",
    "            # Nếu không có colspan, giữ nguyên\n",
    "            new_row.append(cell)\n",
    "\n",
    "    # Xóa nội dung cũ và thêm dòng mới vào thead\n",
    "    thead.clear()\n",
    "    thead.append(new_row)\n",
    "\n",
    "    return str(soup)\n",
    "\n",
    "# HTML gốc\n",
    "html_content = \"\"\"\n",
    "<thead> \n",
    "    <tr class=\"owner-title-table\">\n",
    "        <td rowspan=\"2\" class=\"owner_time\">Ngày</td>\n",
    "        <td rowspan=\"2\" class=\"owner_time\">Thay đổi</td>\n",
    "        <td colspan=\"2\" class=\"owner_gd\">Giao dịch ròng</td>\n",
    "        <td colspan=\"2\" class=\"owner_gd\">Mua</td>\n",
    "        <td colspan=\"2\" class=\"owner_gd\">Bán</td>\n",
    "        <td rowspan=\"2\" class=\"owner_time\">Room còn lại</td>\n",
    "        <td rowspan=\"2\" class=\"owner_time\" style=\"border-right:none;\">Đang sở hữu</td>\n",
    "    </tr>\n",
    "    <tr class=\"owner-contents-typetd\">\n",
    "        <td>Khối lượng</td>\n",
    "        <td>Giá trị (tỷ VNĐ)</td>\n",
    "        <td>Khối lượng</td>\n",
    "        <td>Giá trị (tỷ VNĐ)</td>\n",
    "        <td>Khối lượng</td>\n",
    "        <td>Giá trị (tỷ VNĐ)</td>\n",
    "    </tr>\n",
    "</thead>\n",
    "\"\"\"\n",
    "\n",
    "# Áp dụng hàm\n",
    "flattened_html = flatten_thead(html_content)\n",
    "\n",
    "# In kết quả\n",
    "print(flattened_html)\n"
   ]
  },
  {
   "cell_type": "code",
   "execution_count": null,
   "metadata": {},
   "outputs": [],
   "source": []
  }
 ],
 "metadata": {
  "kernelspec": {
   "display_name": "Python 3",
   "language": "python",
   "name": "python3"
  },
  "language_info": {
   "codemirror_mode": {
    "name": "ipython",
    "version": 3
   },
   "file_extension": ".py",
   "mimetype": "text/x-python",
   "name": "python",
   "nbconvert_exporter": "python",
   "pygments_lexer": "ipython3",
   "version": "3.11.2"
  }
 },
 "nbformat": 4,
 "nbformat_minor": 2
}
